{
 "cells": [
  {
   "cell_type": "code",
   "execution_count": null,
   "id": "94cabb9b",
   "metadata": {},
   "outputs": [],
   "source": [
    "import requests\n",
    "import json"
   ]
  },
  {
   "cell_type": "code",
   "execution_count": 2,
   "id": "8c99c932",
   "metadata": {},
   "outputs": [],
   "source": [
    "url = \"http://api.openweathermap.org/data/2.5/weather\"\n",
    "appid = \"b1e5c368120adc33cee07aad2dcdc946\"\n",
    "units = \"imperial\""
   ]
  },
  {
   "cell_type": "code",
   "execution_count": 3,
   "id": "a03b5cdd",
   "metadata": {},
   "outputs": [],
   "source": [
    "def byCity(city):\n",
    "    '''provides url parameters for search by city name'''\n",
    "    print(\"Getting\", city.title(), \"...\")\n",
    "    querystring = {\"q\":city,\n",
    "                   \"appid\":appid,\n",
    "                   \"units\":units}\n",
    "    return querystring"
   ]
  },
  {
   "cell_type": "code",
   "execution_count": 4,
   "id": "fba28f0e",
   "metadata": {},
   "outputs": [],
   "source": [
    "def byCityState(city, state):\n",
    "    '''provides url parameters for search by city and state'''\n",
    "    print(\"Getting\", city.title(), state.upper(), \"...\")\n",
    "    location = city+\",\"+state+\",us\"\n",
    "    querystring = {\"q\":location,\n",
    "                   \"appid\":appid,\n",
    "                   \"units\":units}\n",
    "    return querystring"
   ]
  },
  {
   "cell_type": "code",
   "execution_count": 5,
   "id": "dd61a163",
   "metadata": {},
   "outputs": [],
   "source": [
    "def byZip(zip):\n",
    "    '''provides url parameters for search by zip code'''\n",
    "    print(\"Getting\", zip, \"...\")\n",
    "    querystring = {\"zip\":zip,\n",
    "                   \"appid\":appid,\n",
    "                   \"units\":units}\n",
    "    return querystring"
   ]
  },
  {
   "cell_type": "code",
   "execution_count": 6,
   "id": "57c62aba",
   "metadata": {},
   "outputs": [],
   "source": [
    "def req(querystring, cityZip):\n",
    "    '''assembles url and requests information from openweathermap'''\n",
    "    headers = {'cache-control':'no-cache'}\n",
    "    try:\n",
    "        response = requests.request(\"GET\", url, headers=headers, params=querystring)\n",
    "        try:\n",
    "            response.raise_for_status()\n",
    "        except requests.exceptions.HTTPError as e:\n",
    "            print(\"Error:\\n\", e)\n",
    "            print(f\"\\n\\033[1m ** Sorry, we couldn't find '{cityZip}'. **\\n\"\n",
    "                  f\"Please check your spelling and try again.\\033[0m\\n\")\n",
    "            main()\n",
    "        except Exception as e:\n",
    "            print(\"Error:\\n\", e)\n",
    "            print(\"\\n\\033[1m ** Sorry, it seems something went awry. **\\033[0m\")\n",
    "            allDone()\n",
    "        else:\n",
    "            resString = json.loads(response.text)\n",
    "    except Exception as e:\n",
    "        print(\"Error:\\n\", e)\n",
    "        print(\"\\n\\033[1m ** Please check your internet connection. **\\033[0m\")\n",
    "        allDone()\n",
    "    return resString"
   ]
  },
  {
   "cell_type": "code",
   "execution_count": 7,
   "id": "d49f4234",
   "metadata": {},
   "outputs": [],
   "source": [
    "def prettyPrint(resString, state):\n",
    "    '''prints weather results for queried location'''\n",
    "    city = resString['name'].upper()\n",
    "    state = state.upper()\n",
    "    temp = f\"{resString['main']['temp']:.0f}\\N{DEGREE SIGN}F\"\n",
    "    hi_temp = f\"{resString['main']['temp_max']:.0f}\\N{DEGREE SIGN}\"\n",
    "    lo_temp = f\"{resString['main']['temp_min']:.0f}\"\n",
    "    feels_like = f\"{resString['main']['feels_like']:.0f}\\N{DEGREE SIGN}F\"\n",
    "    weather = resString['weather'][0]['main']\n",
    "    conditions = resString['weather'][0]['description']\n",
    "    wind_dir = windDirection(resString['wind']['deg'])\n",
    "    wind_mph = f\"{resString['wind']['speed']:.0f}\"\n",
    "\n",
    "    if state == \"\":\n",
    "        print(f'\\n\\t ==== {city} ====')\n",
    "    else:\n",
    "        print(f'\\n\\t ==== {city}, {state} ====')\n",
    "    print(f'\\tTemperature: {temp} ({lo_temp}-{hi_temp})\\n'\n",
    "          f'\\tFeels like: {feels_like}\\n'\n",
    "          f'\\tCurrently: {weather} ({conditions})\\n'\n",
    "          f'\\t{wind_dir} winds at {wind_mph} mph')\n",
    "    moreDetail(resString)"
   ]
  },
  {
   "cell_type": "code",
   "execution_count": 8,
   "id": "95c7952a",
   "metadata": {},
   "outputs": [],
   "source": [
    "def moreDetail(resString):\n",
    "    '''provides addional weather details upon request'''\n",
    "    moreDeets = input(\"\\nWould you like more detail? \"\n",
    "                      \"[\\033[1mY\\033[0m/\\033[1mN\\033[0m] >> \")\n",
    "    if moreDeets.lower() == \"y\":\n",
    "        pressure = f\"{resString['main']['pressure']:.0f}\"\n",
    "        humidity = f\"{resString['main']['humidity']:.0f}\"\n",
    "        cloudCvr = f\"{resString['clouds']['all']:.0f}\"\n",
    "\n",
    "        print(f'\\n\\tPressure: {pressure} mmHg\\n'\n",
    "              f'\\tHumidity: {humidity}%\\n'\n",
    "              f'\\tCloud cover: {cloudCvr}%')\n",
    "        # main()\n",
    "    elif moreDeets.lower() == \"n\":\n",
    "        # print(\"\\n === \\033[1mOkay, have a great day!\\033[0m ===\")\n",
    "        pass\n",
    "    else:\n",
    "        print('\\nSorry, \"'+moreDeets+'\"', \"is not recognized.\")\n",
    "        moreDetail(resString)"
   ]
  },
  {
   "cell_type": "code",
   "execution_count": 9,
   "id": "393a9b80",
   "metadata": {},
   "outputs": [],
   "source": [
    "def windDirection(wind_dir):\n",
    "    '''returns cardinal direction given azimuth direction'''\n",
    "    if wind_dir <= 22.5:\n",
    "        direction = 'N'\n",
    "    elif wind_dir <= 67.5:\n",
    "        direction = 'NE'\n",
    "    elif wind_dir <= 112.5:\n",
    "        direction = 'E'\n",
    "    elif wind_dir <= 157.5:\n",
    "        direction = 'SE'\n",
    "    elif wind_dir <= 202.5:\n",
    "        direction = 'S'\n",
    "    elif wind_dir <= 247.5:\n",
    "        direction = 'SW'\n",
    "    elif wind_dir <= 292.5:\n",
    "        direction = 'W'\n",
    "    elif wind_dir <= 337.5:\n",
    "        direction = 'NW'\n",
    "    else:\n",
    "        direction = 'N'\n",
    "    return direction"
   ]
  },
  {
   "cell_type": "code",
   "execution_count": 10,
   "id": "b088f777",
   "metadata": {},
   "outputs": [],
   "source": [
    "\n",
    "def allDone():\n",
    "    '''allows user to continue or exit'''\n",
    "    done = input(\"\\nWould you like to search again? \"\n",
    "                 \"[\\033[1mY\\033[0m/\\033[1mN\\033[0m] >> \")\n",
    "    if done.lower() == \"y\":\n",
    "        main()\n",
    "    elif done.lower() == \"n\":\n",
    "        print(\"\\n === \\033[1mOkay, have a great day!\\033[0m ===\")\n",
    "        exit()\n",
    "    else:\n",
    "        print('\\nSorry, \"'+done+'\"', \"is not recognized.\")\n",
    "        allDone()"
   ]
  },
  {
   "cell_type": "code",
   "execution_count": 11,
   "id": "e1ef6a4c",
   "metadata": {},
   "outputs": [],
   "source": [
    "def main():\n",
    "    '''requests location query from user and calls relevant functions'''\n",
    "    state = \"\"\n",
    "    city_or_zip = input(\"\\nPlease enter \\033[1mcity name\\033[0m \"\n",
    "                        \"or \\033[1mzip code\\033[0m: >> \")\n",
    "    if city_or_zip.isdecimal() == True:\n",
    "        querystring = byZip(city_or_zip)\n",
    "    else:\n",
    "        state = input(\"Please enter the \\033[1mstate abbreviation\\033[0m, or hit enter: >> \")\n",
    "        if state == \"\":\n",
    "            querystring = byCity(city_or_zip)\n",
    "        else:\n",
    "            querystring = byCityState(city_or_zip, state)\n",
    "\n",
    "    resString = req(querystring, city_or_zip)\n",
    "    prettyPrint(resString, state)\n",
    "    allDone()"
   ]
  },
  {
   "cell_type": "code",
   "execution_count": 5,
   "id": "9d93f777",
   "metadata": {},
   "outputs": [
    {
     "name": "stdout",
     "output_type": "stream",
     "text": [
      "Welcome to the Weather app\n"
     ]
    },
    {
     "ename": "NameError",
     "evalue": "name 'main' is not defined",
     "output_type": "error",
     "traceback": [
      "\u001b[1;31m---------------------------------------------------------------------------\u001b[0m",
      "\u001b[1;31mNameError\u001b[0m                                 Traceback (most recent call last)",
      "Input \u001b[1;32mIn [5]\u001b[0m, in \u001b[0;36m<cell line: 1>\u001b[1;34m()\u001b[0m\n\u001b[0;32m      1\u001b[0m \u001b[38;5;28;01mif\u001b[39;00m \u001b[38;5;18m__name__\u001b[39m \u001b[38;5;241m==\u001b[39m \u001b[38;5;124m'\u001b[39m\u001b[38;5;124m__main__\u001b[39m\u001b[38;5;124m'\u001b[39m:\n\u001b[0;32m      2\u001b[0m     \u001b[38;5;28mprint\u001b[39m(\u001b[38;5;124m\"\u001b[39m\u001b[38;5;124mWelcome to the Weather app\u001b[39m\u001b[38;5;124m\"\u001b[39m)\n\u001b[1;32m----> 3\u001b[0m     \u001b[43mmain\u001b[49m()\n",
      "\u001b[1;31mNameError\u001b[0m: name 'main' is not defined"
     ]
    }
   ],
   "source": [
    "\n",
    "if __name__ == '__main__':\n",
    "    print(\"Welcome to the Weather app\")\n",
    "    main()"
   ]
  },
  {
   "cell_type": "code",
   "execution_count": null,
   "id": "33598d30",
   "metadata": {},
   "outputs": [],
   "source": []
  },
  {
   "cell_type": "code",
   "execution_count": null,
   "id": "e1b2fb56",
   "metadata": {},
   "outputs": [],
   "source": []
  }
 ],
 "metadata": {
  "kernelspec": {
   "display_name": "Python 3 (ipykernel)",
   "language": "python",
   "name": "python3"
  },
  "language_info": {
   "codemirror_mode": {
    "name": "ipython",
    "version": 3
   },
   "file_extension": ".py",
   "mimetype": "text/x-python",
   "name": "python",
   "nbconvert_exporter": "python",
   "pygments_lexer": "ipython3",
   "version": "3.9.12"
  }
 },
 "nbformat": 4,
 "nbformat_minor": 5
}
